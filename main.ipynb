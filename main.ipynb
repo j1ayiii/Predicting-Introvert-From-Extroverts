{
 "cells": [
  {
   "cell_type": "markdown",
   "id": "b6a1e9ff-cb72-472c-ac18-96e347cd575c",
   "metadata": {},
   "source": [
    "# Predicting the Introverts from the Extroverts"
   ]
  },
  {
   "cell_type": "markdown",
   "id": "924ac752-0a29-4fdb-8bd5-b53e9e560df3",
   "metadata": {},
   "source": [
    "Building a machine learning model using the input variables to predict the response (ie., Personality) "
   ]
  },
  {
   "cell_type": "code",
   "execution_count": 1,
   "id": "a308aeb1-da86-496d-ba9e-7891f81f2853",
   "metadata": {},
   "outputs": [],
   "source": [
    "# import necessary packages\n",
    "import pandas as pd\n",
    "import numpy as np\n",
    "import seaborn as sns\n",
    "import matplotlib.pyplot as plt\n",
    "from sklearn.impute import KNNImputer"
   ]
  },
  {
   "cell_type": "markdown",
   "id": "16833ce8-b1ce-46dc-8200-ca2c0a248a60",
   "metadata": {},
   "source": [
    "## 1) Load Dataset"
   ]
  },
  {
   "cell_type": "code",
   "execution_count": 2,
   "id": "5556a2d6-7f20-46b1-a70e-3b656ed43dc0",
   "metadata": {},
   "outputs": [
    {
     "data": {
      "text/html": [
       "<div>\n",
       "<style scoped>\n",
       "    .dataframe tbody tr th:only-of-type {\n",
       "        vertical-align: middle;\n",
       "    }\n",
       "\n",
       "    .dataframe tbody tr th {\n",
       "        vertical-align: top;\n",
       "    }\n",
       "\n",
       "    .dataframe thead th {\n",
       "        text-align: right;\n",
       "    }\n",
       "</style>\n",
       "<table border=\"1\" class=\"dataframe\">\n",
       "  <thead>\n",
       "    <tr style=\"text-align: right;\">\n",
       "      <th></th>\n",
       "      <th>Time_spent_Alone</th>\n",
       "      <th>Stage_fear</th>\n",
       "      <th>Social_event_attendance</th>\n",
       "      <th>Going_outside</th>\n",
       "      <th>Drained_after_socializing</th>\n",
       "      <th>Friends_circle_size</th>\n",
       "      <th>Post_frequency</th>\n",
       "      <th>Personality</th>\n",
       "    </tr>\n",
       "    <tr>\n",
       "      <th>id</th>\n",
       "      <th></th>\n",
       "      <th></th>\n",
       "      <th></th>\n",
       "      <th></th>\n",
       "      <th></th>\n",
       "      <th></th>\n",
       "      <th></th>\n",
       "      <th></th>\n",
       "    </tr>\n",
       "  </thead>\n",
       "  <tbody>\n",
       "    <tr>\n",
       "      <th>0</th>\n",
       "      <td>0.0</td>\n",
       "      <td>No</td>\n",
       "      <td>6.0</td>\n",
       "      <td>4.0</td>\n",
       "      <td>No</td>\n",
       "      <td>15.0</td>\n",
       "      <td>5.0</td>\n",
       "      <td>Extrovert</td>\n",
       "    </tr>\n",
       "    <tr>\n",
       "      <th>1</th>\n",
       "      <td>1.0</td>\n",
       "      <td>No</td>\n",
       "      <td>7.0</td>\n",
       "      <td>3.0</td>\n",
       "      <td>No</td>\n",
       "      <td>10.0</td>\n",
       "      <td>8.0</td>\n",
       "      <td>Extrovert</td>\n",
       "    </tr>\n",
       "    <tr>\n",
       "      <th>2</th>\n",
       "      <td>6.0</td>\n",
       "      <td>Yes</td>\n",
       "      <td>1.0</td>\n",
       "      <td>0.0</td>\n",
       "      <td>NaN</td>\n",
       "      <td>3.0</td>\n",
       "      <td>0.0</td>\n",
       "      <td>Introvert</td>\n",
       "    </tr>\n",
       "    <tr>\n",
       "      <th>3</th>\n",
       "      <td>3.0</td>\n",
       "      <td>No</td>\n",
       "      <td>7.0</td>\n",
       "      <td>3.0</td>\n",
       "      <td>No</td>\n",
       "      <td>11.0</td>\n",
       "      <td>5.0</td>\n",
       "      <td>Extrovert</td>\n",
       "    </tr>\n",
       "    <tr>\n",
       "      <th>4</th>\n",
       "      <td>1.0</td>\n",
       "      <td>No</td>\n",
       "      <td>4.0</td>\n",
       "      <td>4.0</td>\n",
       "      <td>No</td>\n",
       "      <td>13.0</td>\n",
       "      <td>NaN</td>\n",
       "      <td>Extrovert</td>\n",
       "    </tr>\n",
       "    <tr>\n",
       "      <th>...</th>\n",
       "      <td>...</td>\n",
       "      <td>...</td>\n",
       "      <td>...</td>\n",
       "      <td>...</td>\n",
       "      <td>...</td>\n",
       "      <td>...</td>\n",
       "      <td>...</td>\n",
       "      <td>...</td>\n",
       "    </tr>\n",
       "    <tr>\n",
       "      <th>18519</th>\n",
       "      <td>3.0</td>\n",
       "      <td>No</td>\n",
       "      <td>7.0</td>\n",
       "      <td>3.0</td>\n",
       "      <td>No</td>\n",
       "      <td>9.0</td>\n",
       "      <td>7.0</td>\n",
       "      <td>Extrovert</td>\n",
       "    </tr>\n",
       "    <tr>\n",
       "      <th>18520</th>\n",
       "      <td>1.0</td>\n",
       "      <td>NaN</td>\n",
       "      <td>6.0</td>\n",
       "      <td>7.0</td>\n",
       "      <td>No</td>\n",
       "      <td>6.0</td>\n",
       "      <td>5.0</td>\n",
       "      <td>Extrovert</td>\n",
       "    </tr>\n",
       "    <tr>\n",
       "      <th>18521</th>\n",
       "      <td>7.0</td>\n",
       "      <td>Yes</td>\n",
       "      <td>1.0</td>\n",
       "      <td>1.0</td>\n",
       "      <td>Yes</td>\n",
       "      <td>1.0</td>\n",
       "      <td>NaN</td>\n",
       "      <td>Introvert</td>\n",
       "    </tr>\n",
       "    <tr>\n",
       "      <th>18522</th>\n",
       "      <td>NaN</td>\n",
       "      <td>Yes</td>\n",
       "      <td>1.0</td>\n",
       "      <td>0.0</td>\n",
       "      <td>Yes</td>\n",
       "      <td>5.0</td>\n",
       "      <td>2.0</td>\n",
       "      <td>Introvert</td>\n",
       "    </tr>\n",
       "    <tr>\n",
       "      <th>18523</th>\n",
       "      <td>1.0</td>\n",
       "      <td>No</td>\n",
       "      <td>8.0</td>\n",
       "      <td>6.0</td>\n",
       "      <td>No</td>\n",
       "      <td>4.0</td>\n",
       "      <td>7.0</td>\n",
       "      <td>Extrovert</td>\n",
       "    </tr>\n",
       "  </tbody>\n",
       "</table>\n",
       "<p>18524 rows × 8 columns</p>\n",
       "</div>"
      ],
      "text/plain": [
       "       Time_spent_Alone Stage_fear  Social_event_attendance  Going_outside  \\\n",
       "id                                                                           \n",
       "0                   0.0         No                      6.0            4.0   \n",
       "1                   1.0         No                      7.0            3.0   \n",
       "2                   6.0        Yes                      1.0            0.0   \n",
       "3                   3.0         No                      7.0            3.0   \n",
       "4                   1.0         No                      4.0            4.0   \n",
       "...                 ...        ...                      ...            ...   \n",
       "18519               3.0         No                      7.0            3.0   \n",
       "18520               1.0        NaN                      6.0            7.0   \n",
       "18521               7.0        Yes                      1.0            1.0   \n",
       "18522               NaN        Yes                      1.0            0.0   \n",
       "18523               1.0         No                      8.0            6.0   \n",
       "\n",
       "      Drained_after_socializing  Friends_circle_size  Post_frequency  \\\n",
       "id                                                                     \n",
       "0                            No                 15.0             5.0   \n",
       "1                            No                 10.0             8.0   \n",
       "2                           NaN                  3.0             0.0   \n",
       "3                            No                 11.0             5.0   \n",
       "4                            No                 13.0             NaN   \n",
       "...                         ...                  ...             ...   \n",
       "18519                        No                  9.0             7.0   \n",
       "18520                        No                  6.0             5.0   \n",
       "18521                       Yes                  1.0             NaN   \n",
       "18522                       Yes                  5.0             2.0   \n",
       "18523                        No                  4.0             7.0   \n",
       "\n",
       "      Personality  \n",
       "id                 \n",
       "0       Extrovert  \n",
       "1       Extrovert  \n",
       "2       Introvert  \n",
       "3       Extrovert  \n",
       "4       Extrovert  \n",
       "...           ...  \n",
       "18519   Extrovert  \n",
       "18520   Extrovert  \n",
       "18521   Introvert  \n",
       "18522   Introvert  \n",
       "18523   Extrovert  \n",
       "\n",
       "[18524 rows x 8 columns]"
      ]
     },
     "execution_count": 2,
     "metadata": {},
     "output_type": "execute_result"
    }
   ],
   "source": [
    "df = pd.read_csv(\"train.csv\")\n",
    "df.set_index(\"id\", inplace=True) # set id as the index column\n",
    "df"
   ]
  },
  {
   "cell_type": "markdown",
   "id": "788b7c10-98ca-4524-a0f9-04f847d849e3",
   "metadata": {},
   "source": [
    "## 2) Check for Missing Values/ Duplicates"
   ]
  },
  {
   "cell_type": "code",
   "execution_count": 3,
   "id": "31e40a7f-6725-44e6-81e6-5eac2c839858",
   "metadata": {},
   "outputs": [
    {
     "data": {
      "text/plain": [
       "(18524, 8)"
      ]
     },
     "execution_count": 3,
     "metadata": {},
     "output_type": "execute_result"
    }
   ],
   "source": [
    "# shape of train data\n",
    "df.shape"
   ]
  },
  {
   "cell_type": "code",
   "execution_count": 4,
   "id": "55bb5b3a-7794-4111-ba34-f1aab9a2eb36",
   "metadata": {},
   "outputs": [
    {
     "name": "stdout",
     "output_type": "stream",
     "text": [
      "<class 'pandas.core.frame.DataFrame'>\n",
      "Int64Index: 18524 entries, 0 to 18523\n",
      "Data columns (total 8 columns):\n",
      " #   Column                     Non-Null Count  Dtype  \n",
      "---  ------                     --------------  -----  \n",
      " 0   Time_spent_Alone           17334 non-null  float64\n",
      " 1   Stage_fear                 16631 non-null  object \n",
      " 2   Social_event_attendance    17344 non-null  float64\n",
      " 3   Going_outside              17058 non-null  float64\n",
      " 4   Drained_after_socializing  17375 non-null  object \n",
      " 5   Friends_circle_size        17470 non-null  float64\n",
      " 6   Post_frequency             17260 non-null  float64\n",
      " 7   Personality                18524 non-null  object \n",
      "dtypes: float64(5), object(3)\n",
      "memory usage: 1.3+ MB\n"
     ]
    }
   ],
   "source": [
    "# info()\n",
    "df.info()"
   ]
  },
  {
   "cell_type": "code",
   "execution_count": 5,
   "id": "3f107de8-6b12-47cd-83a2-d4f79999690a",
   "metadata": {},
   "outputs": [
    {
     "data": {
      "text/plain": [
       "Time_spent_Alone             1190\n",
       "Stage_fear                   1893\n",
       "Social_event_attendance      1180\n",
       "Going_outside                1466\n",
       "Drained_after_socializing    1149\n",
       "Friends_circle_size          1054\n",
       "Post_frequency               1264\n",
       "Personality                     0\n",
       "dtype: int64"
      ]
     },
     "execution_count": 5,
     "metadata": {},
     "output_type": "execute_result"
    }
   ],
   "source": [
    "# finding missing values of each column\n",
    "df.isnull().sum()"
   ]
  },
  {
   "cell_type": "code",
   "execution_count": 7,
   "id": "ff72b928-203c-44d6-869a-bf83867b9a80",
   "metadata": {},
   "outputs": [
    {
     "data": {
      "text/plain": [
       "Time_spent_Alone              6.424098\n",
       "Stage_fear                   10.219175\n",
       "Social_event_attendance       6.370114\n",
       "Going_outside                 7.914057\n",
       "Drained_after_socializing     6.202764\n",
       "Friends_circle_size           5.689916\n",
       "Post_frequency                6.823580\n",
       "Personality                   0.000000\n",
       "dtype: float64"
      ]
     },
     "execution_count": 7,
     "metadata": {},
     "output_type": "execute_result"
    }
   ],
   "source": [
    "# calc % of missing values for each column\n",
    "df.isnull().sum()/df.shape[0]*100"
   ]
  },
  {
   "cell_type": "code",
   "execution_count": 8,
   "id": "33ec4d81-4111-4768-b668-ba403bb1a444",
   "metadata": {},
   "outputs": [
    {
     "data": {
      "text/plain": [
       "0"
      ]
     },
     "execution_count": 8,
     "metadata": {},
     "output_type": "execute_result"
    }
   ],
   "source": [
    "# finding duplicates\n",
    "df.duplicated().sum()"
   ]
  },
  {
   "cell_type": "code",
   "execution_count": 9,
   "id": "1401b308-d832-447e-9b60-141eda1f99e6",
   "metadata": {},
   "outputs": [
    {
     "name": "stdout",
     "output_type": "stream",
     "text": [
      "No     12609\n",
      "Yes     4022\n",
      "Name: Stage_fear, dtype: int64\n",
      "******************************\n",
      "No     13313\n",
      "Yes     4062\n",
      "Name: Drained_after_socializing, dtype: int64\n",
      "******************************\n",
      "Extrovert    13699\n",
      "Introvert     4825\n",
      "Name: Personality, dtype: int64\n",
      "******************************\n"
     ]
    }
   ],
   "source": [
    "# identifying garbage values (always in the form of object datatype - e.g., special characters)\n",
    "for i in df.select_dtypes(include=\"object\").columns:\n",
    "    print(df[i].value_counts()) # count of unique column\n",
    "    print(\"***\" *10)"
   ]
  },
  {
   "cell_type": "markdown",
   "id": "b80ba641-9fb9-4cfb-9b54-84c298d53f65",
   "metadata": {},
   "source": [
    "Can see that there is no special character in all the categorical columns - no garbage values"
   ]
  },
  {
   "cell_type": "markdown",
   "id": "72ea5f21-f169-4aa6-be8e-c9eafee55ccd",
   "metadata": {},
   "source": [
    " ## 3) EDA"
   ]
  },
  {
   "cell_type": "markdown",
   "id": "9864f673-643d-4cf5-a483-1d8b9da7eb3c",
   "metadata": {},
   "source": [
    "### (i) Target Variable - Personality"
   ]
  },
  {
   "cell_type": "code",
   "execution_count": 10,
   "id": "39f9a3d5-c5e4-42db-a2db-713ff5c19ca4",
   "metadata": {},
   "outputs": [
    {
     "data": {
      "image/png": "[encoded data removed]",
      "text/plain": [
       "<Figure size 600x600 with 1 Axes>"
      ]
     },
     "metadata": {},
     "output_type": "display_data"
    }
   ],
   "source": [
    "plt.figure(figsize = (6,6))\n",
    "temp = df['Personality'].value_counts()\n",
    "plt.pie(\n",
    "    temp, labels = temp.index, \n",
    "    autopct = \"%.0f%%\",\n",
    "    explode = [0.03, 0.03],\n",
    ")\n",
    "\n",
    "plt.title(\"Target Variable 'Personality' Distribution\", fontsize=14)\n",
    "plt.show()"
   ]
  },
  {
   "cell_type": "markdown",
   "id": "0ad6860a-7344-4126-b11e-4ccbaef12831",
   "metadata": {},
   "source": [
    "Target variable \"Personality\" is imbalanced with 74% extrovert and 26% introvert. Would be good to perform resampling techiques - Oversample Introverts (e.g., SMOTE)"
   ]
  },
  {
   "cell_type": "markdown",
   "id": "8e639dac-b4ee-4047-a542-4f03a428c9db",
   "metadata": {},
   "source": [
    "### Resampling to handle imbalanced data - Oversampling of Introvert Types"
   ]
  },
  {
   "cell_type": "code",
   "execution_count": 11,
   "id": "dd81d8a3-050c-42cd-844c-75a61ebec91b",
   "metadata": {},
   "outputs": [
    {
     "data": {
      "text/plain": [
       "(23349, 8)"
      ]
     },
     "execution_count": 11,
     "metadata": {},
     "output_type": "execute_result"
    }
   ],
   "source": [
    "# filter out personality = introvert and append to df\n",
    "df = pd.concat([df, df[df['Personality'] == \"Introvert\"]], axis=0)\n",
    "df = df.sample(frac=1, random_state=42).reset_index(drop=True)\n",
    "df.shape"
   ]
  },
  {
   "cell_type": "markdown",
   "id": "2e434529-5e97-4c60-a18e-c10a0d0d3640",
   "metadata": {},
   "source": [
    "Can observe that df dataset size increased"
   ]
  },
  {
   "cell_type": "code",
   "execution_count": 12,
   "id": "b46d0b1c-21e2-48de-ae7f-ec4c5c17c599",
   "metadata": {},
   "outputs": [
    {
     "data": {
      "image/png": "[encoded data removed]",
      "text/plain": [
       "<Figure size 600x600 with 1 Axes>"
      ]
     },
     "metadata": {},
     "output_type": "display_data"
    }
   ],
   "source": [
    "# check for class imbalance again\n",
    "plt.figure(figsize = (6,6))\n",
    "temp = df['Personality'].value_counts()\n",
    "plt.pie(\n",
    "    temp, labels = temp.index, \n",
    "    autopct = \"%.0f%%\",\n",
    "    explode = [0.03, 0.03],\n",
    ")\n",
    "\n",
    "plt.title(\"Target Variable 'Personality' Distribution\", fontsize=14)\n",
    "plt.show()"
   ]
  },
  {
   "cell_type": "markdown",
   "id": "bea9ab77-e81b-4bbd-9e71-a104e6181e75",
   "metadata": {},
   "source": [
    "Data is more balanced now after oversampling introverts; model will be more accurate for both classes."
   ]
  },
  {
   "cell_type": "code",
   "execution_count": 13,
   "id": "c59e0261-190a-4b3d-8c6c-7b2f73a025e4",
   "metadata": {},
   "outputs": [
    {
     "data": {
      "text/plain": [
       "Index(['Time_spent_Alone', 'Stage_fear', 'Social_event_attendance',\n",
       "       'Going_outside', 'Drained_after_socializing', 'Friends_circle_size',\n",
       "       'Post_frequency'],\n",
       "      dtype='object')"
      ]
     },
     "execution_count": 13,
     "metadata": {},
     "output_type": "execute_result"
    }
   ],
   "source": [
    "# separate numerical & categorical columns\n",
    "cat_cols = df.columns[:-1]\n",
    "cat_cols"
   ]
  },
  {
   "cell_type": "markdown",
   "id": "8001ccf1-9120-4ade-bbd6-a0b1e3232c30",
   "metadata": {},
   "source": [
    "All input columns are categorical columns as all columns values are discrete integer values, not continuous values. "
   ]
  },
  {
   "cell_type": "code",
   "execution_count": 14,
   "id": "cc53ab81-8df8-4b48-84f7-254eeb2fe25f",
   "metadata": {
    "scrolled": true
   },
   "outputs": [
    {
     "data": {
      "image/png": "[encoded data removed]",
      "text/plain": [
       "<Figure size 1500x2000 with 8 Axes>"
      ]
     },
     "metadata": {},
     "output_type": "display_data"
    }
   ],
   "source": [
    "fig, axes = plt.subplots(nrows = 4 , ncols = 2, figsize = (15,20))\n",
    "\n",
    "axes = axes.flatten()\n",
    "for ax,col in zip(axes, cat_cols):\n",
    "    sns.countplot(data=df, x=col, ax=ax, hue=\"Personality\")\n",
    "    ax.set_title(col)\n",
    "\n",
    "plt.tight_layout()\n",
    "plt.show()"
   ]
  },
  {
   "cell_type": "markdown",
   "id": "a90c6bbb-7636-4f70-b538-f5d7016e2bce",
   "metadata": {},
   "source": [
    "Observations for introverts from visualizations above:\n",
    "- Time Spent Alone: Introvert if > 4\n",
    "- Stage Fear: Introvert if Yes\n",
    "- Social Event Attendence: Introvert if < 4\n",
    "- Going Outside: Introvert if < 3\n",
    "- Drained after socializing: Introvert if Yes\n",
    "- Friends Circle Size: Introvert if < 6\n",
    "- Post frequency: Introvert if < 3\n",
    "\n",
    "Useful for predicting target variable w/o machine learning"
   ]
  },
  {
   "cell_type": "code",
   "execution_count": 15,
   "id": "58540591-9ef3-4c1c-8746-4f9a48e6652d",
   "metadata": {},
   "outputs": [
    {
     "data": {
      "text/plain": [
       "array([0, 1, 2, 3, 4], dtype=int64)"
      ]
     },
     "execution_count": 15,
     "metadata": {},
     "output_type": "execute_result"
    }
   ],
   "source": [
    "df['null_count'] = df.isnull().sum(axis=1)\n",
    "df['null_count'].unique() "
   ]
  },
  {
   "cell_type": "markdown",
   "id": "7c6560de-ab95-40a4-8b1d-19365f44a703",
   "metadata": {},
   "source": [
    "Can see there is a maximum of 4 features being null in a particular row; can use remaining 3 features can help to predict target variable"
   ]
  },
  {
   "cell_type": "markdown",
   "id": "580eed31-9582-4a7f-8ee3-e1bf652591a9",
   "metadata": {},
   "source": [
    "### (ii) Using observations to handle missing values in df"
   ]
  },
  {
   "cell_type": "code",
   "execution_count": 19,
   "id": "b7a45eab-cc39-4b36-83b0-a99aca5ca1cd",
   "metadata": {},
   "outputs": [
    {
     "data": {
      "text/plain": [
       "Time_spent_Alone             0\n",
       "Stage_fear                   0\n",
       "Social_event_attendance      0\n",
       "Going_outside                0\n",
       "Drained_after_socializing    0\n",
       "Friends_circle_size          0\n",
       "Post_frequency               0\n",
       "Personality                  0\n",
       "null_count                   0\n",
       "dtype: int64"
      ]
     },
     "execution_count": 19,
     "metadata": {},
     "output_type": "execute_result"
    }
   ],
   "source": [
    "def fill_null(df):\n",
    "    for idx, row in df.iterrows():\n",
    "\n",
    "        if row.isnull().sum() == 0: continue # skip to avoid doing the imputation unnecessarily\n",
    "    \n",
    "        poss = []\n",
    "    \n",
    "        # append 1 if condition is satifised\n",
    "        if row.Time_spent_Alone > 4: poss.append(1)\n",
    "        if row.Stage_fear == \"Yes\": poss.append(1)\n",
    "        if row.Social_event_attendance < 4 : poss.append(1)\n",
    "        if row.Going_outside < 3 : poss.append(1)\n",
    "        if row.Drained_after_socializing == \"Yes\": poss.append(1)\n",
    "        if row.Friends_circle_size < 6 : poss.append(1)\n",
    "        if row.Post_frequency < 3 : poss.append(1)\n",
    "    \n",
    "        cnt = row.isnull().sum()\n",
    "        \n",
    "        pred = '' # prediction variable\n",
    "    \n",
    "        if sum(poss)>cnt//2: pred = \"Introvert\"\n",
    "        else: pred = \"Extrovert\"\n",
    "    \n",
    "        # using observation to impute null values\n",
    "    \n",
    "        # boundary conditions for Extroverts\n",
    "        if pred == \"Extrovert\":\n",
    "            if pd.isnull(row.Time_spent_Alone): df.loc[idx, \"Time_spent_Alone\"] = 4\n",
    "            if pd.isnull(row.Stage_fear): df.loc[idx, \"Stage_fear\"] = \"No\"\n",
    "            if pd.isnull(row.Social_event_attendance): df.loc[idx, \"Social_event_attendance\"] = 4\n",
    "            if pd.isnull(row.Going_outside): df.loc[idx, \"Going_outside\"] = 3\n",
    "            if pd.isnull(row.Drained_after_socializing): df.loc[idx, \"Drained_after_socializing\"] = \"No\"\n",
    "            if pd.isnull(row.Friends_circle_size): df.loc[idx, \"Friends_circle_size\"] = 6\n",
    "            if pd.isnull(row.Post_frequency): df.loc[idx, \"Post_frequency\"] = 3\n",
    "    \n",
    "        # boundary conditions for Introverts\n",
    "        else:\n",
    "            if pd.isnull(row.Time_spent_Alone): df.loc[idx, \"Time_spent_Alone\"] = 3\n",
    "            if pd.isnull(row.Stage_fear): df.loc[idx, \"Stage_fear\"] = \"Yes\"\n",
    "            if pd.isnull(row.Social_event_attendance): df.loc[idx, \"Social_event_attendance\"] = 3\n",
    "            if pd.isnull(row.Going_outside): df.loc[idx, \"Going_outside\"] = 2\n",
    "            if pd.isnull(row.Drained_after_socializing): df.loc[idx, \"Drained_after_socializing\"] = \"Yes\"\n",
    "            if pd.isnull(row.Friends_circle_size): df.loc[idx, \"Friends_circle_size\"] = 5\n",
    "            if pd.isnull(row.Post_frequency): df.loc[idx, \"Post_frequency\"] = 2\n",
    "            \n",
    "    return df\n",
    "\n",
    "df = fill_null(df)\n",
    "df.isnull().sum()"
   ]
  },
  {
   "cell_type": "markdown",
   "id": "79fcf8ee-2d07-4d04-98f1-2986dafd7a83",
   "metadata": {},
   "source": [
    "Can observe that all the null values have been imputed by other values. "
   ]
  },
  {
   "cell_type": "markdown",
   "id": "36b0a930-443c-43ca-8d25-75062d3e7b53",
   "metadata": {},
   "source": [
    "## 3) Train-Test Dataset Split"
   ]
  },
  {
   "cell_type": "code",
   "execution_count": 20,
   "id": "fa735bb9-cff4-4aa1-adb0-6d1c4e317ca7",
   "metadata": {},
   "outputs": [],
   "source": [
    "# encode categorical values into numerical format\n",
    "df = df.replace({\"Introvert\": 1, \"Extrovert\": 0})\n",
    "df = df.replace({\"Yes\": 0, \"No\": 1})"
   ]
  },
  {
   "cell_type": "code",
   "execution_count": 21,
   "id": "fa115c51-5d16-476c-8105-ad3c22882a2c",
   "metadata": {},
   "outputs": [
    {
     "data": {
      "text/html": [
       "<div>\n",
       "<style scoped>\n",
       "    .dataframe tbody tr th:only-of-type {\n",
       "        vertical-align: middle;\n",
       "    }\n",
       "\n",
       "    .dataframe tbody tr th {\n",
       "        vertical-align: top;\n",
       "    }\n",
       "\n",
       "    .dataframe thead th {\n",
       "        text-align: right;\n",
       "    }\n",
       "</style>\n",
       "<table border=\"1\" class=\"dataframe\">\n",
       "  <thead>\n",
       "    <tr style=\"text-align: right;\">\n",
       "      <th></th>\n",
       "      <th>Time_spent_Alone</th>\n",
       "      <th>Stage_fear</th>\n",
       "      <th>Social_event_attendance</th>\n",
       "      <th>Going_outside</th>\n",
       "      <th>Drained_after_socializing</th>\n",
       "      <th>Friends_circle_size</th>\n",
       "      <th>Post_frequency</th>\n",
       "      <th>Personality</th>\n",
       "      <th>null_count</th>\n",
       "    </tr>\n",
       "  </thead>\n",
       "  <tbody>\n",
       "    <tr>\n",
       "      <th>0</th>\n",
       "      <td>1.0</td>\n",
       "      <td>1.0</td>\n",
       "      <td>4.0</td>\n",
       "      <td>6.0</td>\n",
       "      <td>1.0</td>\n",
       "      <td>7.0</td>\n",
       "      <td>5.0</td>\n",
       "      <td>0</td>\n",
       "      <td>0</td>\n",
       "    </tr>\n",
       "    <tr>\n",
       "      <th>1</th>\n",
       "      <td>0.0</td>\n",
       "      <td>1.0</td>\n",
       "      <td>6.0</td>\n",
       "      <td>3.0</td>\n",
       "      <td>1.0</td>\n",
       "      <td>8.0</td>\n",
       "      <td>9.0</td>\n",
       "      <td>0</td>\n",
       "      <td>0</td>\n",
       "    </tr>\n",
       "    <tr>\n",
       "      <th>2</th>\n",
       "      <td>3.0</td>\n",
       "      <td>1.0</td>\n",
       "      <td>4.0</td>\n",
       "      <td>5.0</td>\n",
       "      <td>1.0</td>\n",
       "      <td>13.0</td>\n",
       "      <td>8.0</td>\n",
       "      <td>0</td>\n",
       "      <td>0</td>\n",
       "    </tr>\n",
       "    <tr>\n",
       "      <th>3</th>\n",
       "      <td>0.0</td>\n",
       "      <td>1.0</td>\n",
       "      <td>8.0</td>\n",
       "      <td>7.0</td>\n",
       "      <td>1.0</td>\n",
       "      <td>15.0</td>\n",
       "      <td>4.0</td>\n",
       "      <td>0</td>\n",
       "      <td>0</td>\n",
       "    </tr>\n",
       "    <tr>\n",
       "      <th>4</th>\n",
       "      <td>2.0</td>\n",
       "      <td>1.0</td>\n",
       "      <td>4.0</td>\n",
       "      <td>4.0</td>\n",
       "      <td>1.0</td>\n",
       "      <td>4.0</td>\n",
       "      <td>4.0</td>\n",
       "      <td>0</td>\n",
       "      <td>0</td>\n",
       "    </tr>\n",
       "  </tbody>\n",
       "</table>\n",
       "</div>"
      ],
      "text/plain": [
       "   Time_spent_Alone  Stage_fear  Social_event_attendance  Going_outside  \\\n",
       "0               1.0         1.0                      4.0            6.0   \n",
       "1               0.0         1.0                      6.0            3.0   \n",
       "2               3.0         1.0                      4.0            5.0   \n",
       "3               0.0         1.0                      8.0            7.0   \n",
       "4               2.0         1.0                      4.0            4.0   \n",
       "\n",
       "   Drained_after_socializing  Friends_circle_size  Post_frequency  \\\n",
       "0                        1.0                  7.0             5.0   \n",
       "1                        1.0                  8.0             9.0   \n",
       "2                        1.0                 13.0             8.0   \n",
       "3                        1.0                 15.0             4.0   \n",
       "4                        1.0                  4.0             4.0   \n",
       "\n",
       "   Personality  null_count  \n",
       "0            0           0  \n",
       "1            0           0  \n",
       "2            0           0  \n",
       "3            0           0  \n",
       "4            0           0  "
      ]
     },
     "execution_count": 21,
     "metadata": {},
     "output_type": "execute_result"
    }
   ],
   "source": [
    "df.head()"
   ]
  },
  {
   "cell_type": "code",
   "execution_count": 22,
   "id": "950bc22b-caee-4b11-80df-66f936e0b892",
   "metadata": {},
   "outputs": [],
   "source": [
    "from sklearn.model_selection import train_test_split\n",
    "X = df.drop(\"Personality\", axis = 1)\n",
    "y = df[\"Personality\"]"
   ]
  },
  {
   "cell_type": "code",
   "execution_count": 23,
   "id": "a67640c6-1148-4625-a04c-531be898ef3f",
   "metadata": {},
   "outputs": [],
   "source": [
    "X_train, X_value, y_train, y_value = train_test_split(X, y, test_size=0.2, stratify=y, random_state=42)"
   ]
  },
  {
   "cell_type": "markdown",
   "id": "b17331dd-d9b8-4d32-b427-a72b1d4abf02",
   "metadata": {},
   "source": [
    "## 4) Model Training"
   ]
  },
  {
   "cell_type": "code",
   "execution_count": 34,
   "id": "ff9b6fc3-ec65-4eb4-b7b0-43ca57ec14e0",
   "metadata": {},
   "outputs": [],
   "source": [
    "# !pip install -q catboost\n",
    "# !pip install -q xgboost\n",
    "# !pip install -q lightgbm"
   ]
  },
  {
   "cell_type": "code",
   "execution_count": 31,
   "id": "79017063-3f42-450f-8e1f-9bd1d53b088a",
   "metadata": {},
   "outputs": [],
   "source": [
    "# import necessary libraries\n",
    "from sklearn.linear_model import LogisticRegression\n",
    "from xgboost import XGBClassifier\n",
    "from sklearn.ensemble import RandomForestClassifier\n",
    "from catboost import CatBoostClassifier\n",
    "from sklearn.metrics import accuracy_score, confusion_matrix\n",
    "from lightgbm import LGBMClassifier"
   ]
  },
  {
   "cell_type": "code",
   "execution_count": 32,
   "id": "9fbc641f-cdb7-4e33-9c00-ea6146ecc2f4",
   "metadata": {},
   "outputs": [],
   "source": [
    "def plot_confusion_matrix(y_actual, y_pred, title):\n",
    "    cm = confusion_matrix(y_actual, y_pred)\n",
    "    sns.heatmap(cm, annot = True, fmt = \"d\", cmap = \"Blues\", cbar = False)\n",
    "    plt.xlabel(\"Predicted\")\n",
    "    plt.ylabel(\"Actual\")\n",
    "    plt.title(title)\n",
    "    plt.show()"
   ]
  },
  {
   "cell_type": "code",
   "execution_count": 33,
   "id": "aea15efa-1483-439c-bcb1-bf7582299769",
   "metadata": {},
   "outputs": [
    {
     "name": "stdout",
     "output_type": "stream",
     "text": [
      "RandomForestClassifier()\n",
      "Train Accuracy: 0.9967878366079554\n",
      "Value Accuracy: 0.9811563169164882\n"
     ]
    },
    {
     "data": {
      "image/png": "[encoded data removed]",
      "text/plain": [
       "<Figure size 640x480 with 1 Axes>"
      ]
     },
     "metadata": {},
     "output_type": "display_data"
    },
    {
     "name": "stdout",
     "output_type": "stream",
     "text": [
      "\n",
      "XGBClassifier(base_score=None, booster=None, callbacks=None,\n",
      "              colsample_bylevel=None, colsample_bynode=None,\n",
      "              colsample_bytree=None, device=None, early_stopping_rounds=None,\n",
      "              enable_categorical=False, eval_metric=None, feature_types=None,\n",
      "              feature_weights=None, gamma=None, grow_policy=None,\n",
      "              importance_type=None, interaction_constraints=None,\n",
      "              learning_rate=None, max_bin=None, max_cat_threshold=None,\n",
      "              max_cat_to_onehot=None, max_delta_step=None, max_depth=None,\n",
      "              max_leaves=None, min_child_weight=None, missing=nan,\n",
      "              monotone_constraints=None, multi_strategy=None, n_estimators=None,\n",
      "              n_jobs=None, num_parallel_tree=None, ...)\n",
      "Train Accuracy: 0.9703945607366561\n",
      "Value Accuracy: 0.9659528907922912\n"
     ]
    },
    {
     "data": {
      "image/png": "[encoded data removed]",
      "text/plain": [
       "<Figure size 640x480 with 1 Axes>"
      ]
     },
     "metadata": {},
     "output_type": "display_data"
    },
    {
     "name": "stdout",
     "output_type": "stream",
     "text": [
      "\n",
      "<catboost.core.CatBoostClassifier object at 0x0000018A613A3340>\n",
      "Train Accuracy: 0.9679854381926227\n",
      "Value Accuracy: 0.9668094218415417\n"
     ]
    },
    {
     "data": {
      "image/png": "[encoded data removed]",
      "text/plain": [
       "<Figure size 640x480 with 1 Axes>"
      ]
     },
     "metadata": {},
     "output_type": "display_data"
    },
    {
     "name": "stdout",
     "output_type": "stream",
     "text": [
      "\n",
      "LogisticRegression()\n",
      "Train Accuracy: 0.9605974623909203\n",
      "Value Accuracy: 0.9655246252676659\n"
     ]
    },
    {
     "data": {
      "image/png": "[encoded data removed]",
      "text/plain": [
       "<Figure size 640x480 with 1 Axes>"
      ]
     },
     "metadata": {},
     "output_type": "display_data"
    },
    {
     "name": "stdout",
     "output_type": "stream",
     "text": [
      "\n",
      "[LightGBM] [Info] Number of positive: 7720, number of negative: 10959\n",
      "[LightGBM] [Info] Auto-choosing row-wise multi-threading, the overhead of testing was 0.000326 seconds.\n",
      "You can set `force_row_wise=true` to remove the overhead.\n",
      "And if memory is not enough, you can set `force_col_wise=true`.\n",
      "[LightGBM] [Info] Total Bins 67\n",
      "[LightGBM] [Info] Number of data points in the train set: 18679, number of used features: 8\n",
      "[LightGBM] [Info] [binary:BoostFromScore]: pavg=0.413298 -> initscore=-0.350347\n",
      "[LightGBM] [Info] Start training from score -0.350347\n",
      "LGBMClassifier(metric='binary_error', objective='binary')\n",
      "Train Accuracy: 0.9647197387440442\n",
      "Value Accuracy: 0.9670235546038544\n"
     ]
    },
    {
     "data": {
      "image/png": "[encoded data removed]",
      "text/plain": [
       "<Figure size 640x480 with 1 Axes>"
      ]
     },
     "metadata": {},
     "output_type": "display_data"
    },
    {
     "name": "stdout",
     "output_type": "stream",
     "text": [
      "\n"
     ]
    }
   ],
   "source": [
    "models = [RandomForestClassifier(), \n",
    "          XGBClassifier(),\n",
    "          CatBoostClassifier(verbose = False), \n",
    "          LogisticRegression(),\n",
    "          LGBMClassifier(objective=\"binary\", metric = \"binary_error\", )\n",
    "         ]\n",
    "\n",
    "for i in range(len(models)):\n",
    "\n",
    "    models[i].fit(X_train, y_train)\n",
    "    y_train_pred = models[i].predict(X_train)\n",
    "    y_value_pred = models[i].predict(X_value)\n",
    "\n",
    "    print(models[i])\n",
    "    print(\"Train Accuracy:\", accuracy_score(y_train, y_train_pred))\n",
    "    print(\"Value Accuracy:\", accuracy_score(y_value, y_value_pred))\n",
    "    plot_confusion_matrix(y_value, y_value_pred, \"Validation Confusion Matrix\")\n",
    "    \n",
    "    print()"
   ]
  },
  {
   "cell_type": "markdown",
   "id": "c24f051e-2a05-4f12-8022-51d0b8d6df48",
   "metadata": {},
   "source": [
    "After comparing the training and test accuracies of various models, the Random Forest Classifier performs best, achieving a training accuracy of 0.997 and a test accuracy of 0.981. Thus, we will be using the Random Forest Classifier to predict the target variable \"Personality\" for the test set."
   ]
  },
  {
   "cell_type": "markdown",
   "id": "0078a624-16d6-4561-853c-2fdf669b5799",
   "metadata": {},
   "source": [
    "## 5) Inference for Test Dataset"
   ]
  },
  {
   "cell_type": "code",
   "execution_count": 36,
   "id": "cd7575e8-c804-4e03-827c-3fdc355194dc",
   "metadata": {},
   "outputs": [
    {
     "data": {
      "text/html": [
       "<div>\n",
       "<style scoped>\n",
       "    .dataframe tbody tr th:only-of-type {\n",
       "        vertical-align: middle;\n",
       "    }\n",
       "\n",
       "    .dataframe tbody tr th {\n",
       "        vertical-align: top;\n",
       "    }\n",
       "\n",
       "    .dataframe thead th {\n",
       "        text-align: right;\n",
       "    }\n",
       "</style>\n",
       "<table border=\"1\" class=\"dataframe\">\n",
       "  <thead>\n",
       "    <tr style=\"text-align: right;\">\n",
       "      <th></th>\n",
       "      <th>Time_spent_Alone</th>\n",
       "      <th>Stage_fear</th>\n",
       "      <th>Social_event_attendance</th>\n",
       "      <th>Going_outside</th>\n",
       "      <th>Drained_after_socializing</th>\n",
       "      <th>Friends_circle_size</th>\n",
       "      <th>Post_frequency</th>\n",
       "    </tr>\n",
       "    <tr>\n",
       "      <th>id</th>\n",
       "      <th></th>\n",
       "      <th></th>\n",
       "      <th></th>\n",
       "      <th></th>\n",
       "      <th></th>\n",
       "      <th></th>\n",
       "      <th></th>\n",
       "    </tr>\n",
       "  </thead>\n",
       "  <tbody>\n",
       "    <tr>\n",
       "      <th>18524</th>\n",
       "      <td>3.0</td>\n",
       "      <td>No</td>\n",
       "      <td>7.0</td>\n",
       "      <td>4.0</td>\n",
       "      <td>No</td>\n",
       "      <td>6.0</td>\n",
       "      <td>NaN</td>\n",
       "    </tr>\n",
       "    <tr>\n",
       "      <th>18525</th>\n",
       "      <td>NaN</td>\n",
       "      <td>Yes</td>\n",
       "      <td>0.0</td>\n",
       "      <td>0.0</td>\n",
       "      <td>Yes</td>\n",
       "      <td>5.0</td>\n",
       "      <td>1.0</td>\n",
       "    </tr>\n",
       "    <tr>\n",
       "      <th>18526</th>\n",
       "      <td>3.0</td>\n",
       "      <td>No</td>\n",
       "      <td>5.0</td>\n",
       "      <td>6.0</td>\n",
       "      <td>No</td>\n",
       "      <td>15.0</td>\n",
       "      <td>9.0</td>\n",
       "    </tr>\n",
       "    <tr>\n",
       "      <th>18527</th>\n",
       "      <td>3.0</td>\n",
       "      <td>No</td>\n",
       "      <td>4.0</td>\n",
       "      <td>4.0</td>\n",
       "      <td>No</td>\n",
       "      <td>5.0</td>\n",
       "      <td>6.0</td>\n",
       "    </tr>\n",
       "    <tr>\n",
       "      <th>18528</th>\n",
       "      <td>9.0</td>\n",
       "      <td>Yes</td>\n",
       "      <td>1.0</td>\n",
       "      <td>2.0</td>\n",
       "      <td>Yes</td>\n",
       "      <td>1.0</td>\n",
       "      <td>1.0</td>\n",
       "    </tr>\n",
       "    <tr>\n",
       "      <th>...</th>\n",
       "      <td>...</td>\n",
       "      <td>...</td>\n",
       "      <td>...</td>\n",
       "      <td>...</td>\n",
       "      <td>...</td>\n",
       "      <td>...</td>\n",
       "      <td>...</td>\n",
       "    </tr>\n",
       "    <tr>\n",
       "      <th>24694</th>\n",
       "      <td>3.0</td>\n",
       "      <td>No</td>\n",
       "      <td>5.0</td>\n",
       "      <td>5.0</td>\n",
       "      <td>No</td>\n",
       "      <td>9.0</td>\n",
       "      <td>6.0</td>\n",
       "    </tr>\n",
       "    <tr>\n",
       "      <th>24695</th>\n",
       "      <td>8.0</td>\n",
       "      <td>Yes</td>\n",
       "      <td>2.0</td>\n",
       "      <td>1.0</td>\n",
       "      <td>Yes</td>\n",
       "      <td>0.0</td>\n",
       "      <td>0.0</td>\n",
       "    </tr>\n",
       "    <tr>\n",
       "      <th>24696</th>\n",
       "      <td>2.0</td>\n",
       "      <td>No</td>\n",
       "      <td>4.0</td>\n",
       "      <td>3.0</td>\n",
       "      <td>No</td>\n",
       "      <td>9.0</td>\n",
       "      <td>7.0</td>\n",
       "    </tr>\n",
       "    <tr>\n",
       "      <th>24697</th>\n",
       "      <td>3.0</td>\n",
       "      <td>No</td>\n",
       "      <td>4.0</td>\n",
       "      <td>4.0</td>\n",
       "      <td>No</td>\n",
       "      <td>11.0</td>\n",
       "      <td>9.0</td>\n",
       "    </tr>\n",
       "    <tr>\n",
       "      <th>24698</th>\n",
       "      <td>NaN</td>\n",
       "      <td>Yes</td>\n",
       "      <td>1.0</td>\n",
       "      <td>1.0</td>\n",
       "      <td>Yes</td>\n",
       "      <td>1.0</td>\n",
       "      <td>0.0</td>\n",
       "    </tr>\n",
       "  </tbody>\n",
       "</table>\n",
       "<p>6175 rows × 7 columns</p>\n",
       "</div>"
      ],
      "text/plain": [
       "       Time_spent_Alone Stage_fear  Social_event_attendance  Going_outside  \\\n",
       "id                                                                           \n",
       "18524               3.0         No                      7.0            4.0   \n",
       "18525               NaN        Yes                      0.0            0.0   \n",
       "18526               3.0         No                      5.0            6.0   \n",
       "18527               3.0         No                      4.0            4.0   \n",
       "18528               9.0        Yes                      1.0            2.0   \n",
       "...                 ...        ...                      ...            ...   \n",
       "24694               3.0         No                      5.0            5.0   \n",
       "24695               8.0        Yes                      2.0            1.0   \n",
       "24696               2.0         No                      4.0            3.0   \n",
       "24697               3.0         No                      4.0            4.0   \n",
       "24698               NaN        Yes                      1.0            1.0   \n",
       "\n",
       "      Drained_after_socializing  Friends_circle_size  Post_frequency  \n",
       "id                                                                    \n",
       "18524                        No                  6.0             NaN  \n",
       "18525                       Yes                  5.0             1.0  \n",
       "18526                        No                 15.0             9.0  \n",
       "18527                        No                  5.0             6.0  \n",
       "18528                       Yes                  1.0             1.0  \n",
       "...                         ...                  ...             ...  \n",
       "24694                        No                  9.0             6.0  \n",
       "24695                       Yes                  0.0             0.0  \n",
       "24696                        No                  9.0             7.0  \n",
       "24697                        No                 11.0             9.0  \n",
       "24698                       Yes                  1.0             0.0  \n",
       "\n",
       "[6175 rows x 7 columns]"
      ]
     },
     "execution_count": 36,
     "metadata": {},
     "output_type": "execute_result"
    }
   ],
   "source": [
    "test = pd.read_csv(\"test.csv\")\n",
    "test.set_index(\"id\", inplace=True) # set id as the index column\n",
    "test"
   ]
  },
  {
   "cell_type": "markdown",
   "id": "e69d6547-128a-4659-b44d-2f557631b317",
   "metadata": {},
   "source": [
    "### (i) Cleaning and Preprocessing of Test Dataset (i.e., replacing missing values)"
   ]
  },
  {
   "cell_type": "code",
   "execution_count": 42,
   "id": "e68d7af2-ddaa-4c51-af15-5d8657a27518",
   "metadata": {},
   "outputs": [
    {
     "data": {
      "text/plain": [
       "Time_spent_Alone             0\n",
       "Stage_fear                   0\n",
       "Social_event_attendance      0\n",
       "Going_outside                0\n",
       "Drained_after_socializing    0\n",
       "Friends_circle_size          0\n",
       "Post_frequency               0\n",
       "null_count                   0\n",
       "dtype: int64"
      ]
     },
     "execution_count": 42,
     "metadata": {},
     "output_type": "execute_result"
    }
   ],
   "source": [
    "test['null_count'] = test.isnull().sum(axis=1)\n",
    "test = fill_null(test) # replace missing values\n",
    "test = test.replace({\"Yes\": 0, \"No\": 1}) # encode categorical values to numerical format\n",
    "test.isnull().sum()"
   ]
  },
  {
   "cell_type": "code",
   "execution_count": 43,
   "id": "52f0cc31-4a51-4650-91aa-57de30e7fc10",
   "metadata": {},
   "outputs": [
    {
     "data": {
      "text/html": [
       "<div>\n",
       "<style scoped>\n",
       "    .dataframe tbody tr th:only-of-type {\n",
       "        vertical-align: middle;\n",
       "    }\n",
       "\n",
       "    .dataframe tbody tr th {\n",
       "        vertical-align: top;\n",
       "    }\n",
       "\n",
       "    .dataframe thead th {\n",
       "        text-align: right;\n",
       "    }\n",
       "</style>\n",
       "<table border=\"1\" class=\"dataframe\">\n",
       "  <thead>\n",
       "    <tr style=\"text-align: right;\">\n",
       "      <th></th>\n",
       "      <th>Time_spent_Alone</th>\n",
       "      <th>Stage_fear</th>\n",
       "      <th>Social_event_attendance</th>\n",
       "      <th>Going_outside</th>\n",
       "      <th>Drained_after_socializing</th>\n",
       "      <th>Friends_circle_size</th>\n",
       "      <th>Post_frequency</th>\n",
       "      <th>null_count</th>\n",
       "    </tr>\n",
       "    <tr>\n",
       "      <th>id</th>\n",
       "      <th></th>\n",
       "      <th></th>\n",
       "      <th></th>\n",
       "      <th></th>\n",
       "      <th></th>\n",
       "      <th></th>\n",
       "      <th></th>\n",
       "      <th></th>\n",
       "    </tr>\n",
       "  </thead>\n",
       "  <tbody>\n",
       "    <tr>\n",
       "      <th>18524</th>\n",
       "      <td>3.0</td>\n",
       "      <td>1</td>\n",
       "      <td>7.0</td>\n",
       "      <td>4.0</td>\n",
       "      <td>1</td>\n",
       "      <td>6.0</td>\n",
       "      <td>3.0</td>\n",
       "      <td>0</td>\n",
       "    </tr>\n",
       "    <tr>\n",
       "      <th>18525</th>\n",
       "      <td>3.0</td>\n",
       "      <td>0</td>\n",
       "      <td>0.0</td>\n",
       "      <td>0.0</td>\n",
       "      <td>0</td>\n",
       "      <td>5.0</td>\n",
       "      <td>1.0</td>\n",
       "      <td>0</td>\n",
       "    </tr>\n",
       "    <tr>\n",
       "      <th>18526</th>\n",
       "      <td>3.0</td>\n",
       "      <td>1</td>\n",
       "      <td>5.0</td>\n",
       "      <td>6.0</td>\n",
       "      <td>1</td>\n",
       "      <td>15.0</td>\n",
       "      <td>9.0</td>\n",
       "      <td>0</td>\n",
       "    </tr>\n",
       "    <tr>\n",
       "      <th>18527</th>\n",
       "      <td>3.0</td>\n",
       "      <td>1</td>\n",
       "      <td>4.0</td>\n",
       "      <td>4.0</td>\n",
       "      <td>1</td>\n",
       "      <td>5.0</td>\n",
       "      <td>6.0</td>\n",
       "      <td>0</td>\n",
       "    </tr>\n",
       "    <tr>\n",
       "      <th>18528</th>\n",
       "      <td>9.0</td>\n",
       "      <td>0</td>\n",
       "      <td>1.0</td>\n",
       "      <td>2.0</td>\n",
       "      <td>0</td>\n",
       "      <td>1.0</td>\n",
       "      <td>1.0</td>\n",
       "      <td>0</td>\n",
       "    </tr>\n",
       "    <tr>\n",
       "      <th>...</th>\n",
       "      <td>...</td>\n",
       "      <td>...</td>\n",
       "      <td>...</td>\n",
       "      <td>...</td>\n",
       "      <td>...</td>\n",
       "      <td>...</td>\n",
       "      <td>...</td>\n",
       "      <td>...</td>\n",
       "    </tr>\n",
       "    <tr>\n",
       "      <th>24694</th>\n",
       "      <td>3.0</td>\n",
       "      <td>1</td>\n",
       "      <td>5.0</td>\n",
       "      <td>5.0</td>\n",
       "      <td>1</td>\n",
       "      <td>9.0</td>\n",
       "      <td>6.0</td>\n",
       "      <td>0</td>\n",
       "    </tr>\n",
       "    <tr>\n",
       "      <th>24695</th>\n",
       "      <td>8.0</td>\n",
       "      <td>0</td>\n",
       "      <td>2.0</td>\n",
       "      <td>1.0</td>\n",
       "      <td>0</td>\n",
       "      <td>0.0</td>\n",
       "      <td>0.0</td>\n",
       "      <td>0</td>\n",
       "    </tr>\n",
       "    <tr>\n",
       "      <th>24696</th>\n",
       "      <td>2.0</td>\n",
       "      <td>1</td>\n",
       "      <td>4.0</td>\n",
       "      <td>3.0</td>\n",
       "      <td>1</td>\n",
       "      <td>9.0</td>\n",
       "      <td>7.0</td>\n",
       "      <td>0</td>\n",
       "    </tr>\n",
       "    <tr>\n",
       "      <th>24697</th>\n",
       "      <td>3.0</td>\n",
       "      <td>1</td>\n",
       "      <td>4.0</td>\n",
       "      <td>4.0</td>\n",
       "      <td>1</td>\n",
       "      <td>11.0</td>\n",
       "      <td>9.0</td>\n",
       "      <td>0</td>\n",
       "    </tr>\n",
       "    <tr>\n",
       "      <th>24698</th>\n",
       "      <td>3.0</td>\n",
       "      <td>0</td>\n",
       "      <td>1.0</td>\n",
       "      <td>1.0</td>\n",
       "      <td>0</td>\n",
       "      <td>1.0</td>\n",
       "      <td>0.0</td>\n",
       "      <td>0</td>\n",
       "    </tr>\n",
       "  </tbody>\n",
       "</table>\n",
       "<p>6175 rows × 8 columns</p>\n",
       "</div>"
      ],
      "text/plain": [
       "       Time_spent_Alone  Stage_fear  Social_event_attendance  Going_outside  \\\n",
       "id                                                                            \n",
       "18524               3.0           1                      7.0            4.0   \n",
       "18525               3.0           0                      0.0            0.0   \n",
       "18526               3.0           1                      5.0            6.0   \n",
       "18527               3.0           1                      4.0            4.0   \n",
       "18528               9.0           0                      1.0            2.0   \n",
       "...                 ...         ...                      ...            ...   \n",
       "24694               3.0           1                      5.0            5.0   \n",
       "24695               8.0           0                      2.0            1.0   \n",
       "24696               2.0           1                      4.0            3.0   \n",
       "24697               3.0           1                      4.0            4.0   \n",
       "24698               3.0           0                      1.0            1.0   \n",
       "\n",
       "       Drained_after_socializing  Friends_circle_size  Post_frequency  \\\n",
       "id                                                                      \n",
       "18524                          1                  6.0             3.0   \n",
       "18525                          0                  5.0             1.0   \n",
       "18526                          1                 15.0             9.0   \n",
       "18527                          1                  5.0             6.0   \n",
       "18528                          0                  1.0             1.0   \n",
       "...                          ...                  ...             ...   \n",
       "24694                          1                  9.0             6.0   \n",
       "24695                          0                  0.0             0.0   \n",
       "24696                          1                  9.0             7.0   \n",
       "24697                          1                 11.0             9.0   \n",
       "24698                          0                  1.0             0.0   \n",
       "\n",
       "       null_count  \n",
       "id                 \n",
       "18524           0  \n",
       "18525           0  \n",
       "18526           0  \n",
       "18527           0  \n",
       "18528           0  \n",
       "...           ...  \n",
       "24694           0  \n",
       "24695           0  \n",
       "24696           0  \n",
       "24697           0  \n",
       "24698           0  \n",
       "\n",
       "[6175 rows x 8 columns]"
      ]
     },
     "execution_count": 43,
     "metadata": {},
     "output_type": "execute_result"
    }
   ],
   "source": [
    "test"
   ]
  },
  {
   "cell_type": "markdown",
   "id": "8ff6e6b7-40f3-453e-a79d-92ccd7932a80",
   "metadata": {},
   "source": [
    "### (ii) Using the Random Forest Classifier Model to predict Personality in Test Set "
   ]
  },
  {
   "cell_type": "code",
   "execution_count": 48,
   "id": "19b4e2f1-887b-4c09-a99b-c164704499d5",
   "metadata": {},
   "outputs": [],
   "source": [
    "sample_submission = pd.read_csv(\"sample_submission.csv\")\n",
    "sample_submission['Personality'] = models[0].predict(test) # predict using Random Forest on test set\n",
    "sample_submission.replace({1: \"Introvert\", 0: \"Extrovert\"}, inplace = True)"
   ]
  },
  {
   "cell_type": "code",
   "execution_count": 49,
   "id": "b4f5e6a1-f83e-4e95-b554-f26f18775403",
   "metadata": {},
   "outputs": [
    {
     "data": {
      "text/html": [
       "<div>\n",
       "<style scoped>\n",
       "    .dataframe tbody tr th:only-of-type {\n",
       "        vertical-align: middle;\n",
       "    }\n",
       "\n",
       "    .dataframe tbody tr th {\n",
       "        vertical-align: top;\n",
       "    }\n",
       "\n",
       "    .dataframe thead th {\n",
       "        text-align: right;\n",
       "    }\n",
       "</style>\n",
       "<table border=\"1\" class=\"dataframe\">\n",
       "  <thead>\n",
       "    <tr style=\"text-align: right;\">\n",
       "      <th></th>\n",
       "      <th>id</th>\n",
       "      <th>Personality</th>\n",
       "    </tr>\n",
       "  </thead>\n",
       "  <tbody>\n",
       "    <tr>\n",
       "      <th>0</th>\n",
       "      <td>18524</td>\n",
       "      <td>Extrovert</td>\n",
       "    </tr>\n",
       "    <tr>\n",
       "      <th>1</th>\n",
       "      <td>18525</td>\n",
       "      <td>Introvert</td>\n",
       "    </tr>\n",
       "    <tr>\n",
       "      <th>2</th>\n",
       "      <td>18526</td>\n",
       "      <td>Extrovert</td>\n",
       "    </tr>\n",
       "    <tr>\n",
       "      <th>3</th>\n",
       "      <td>18527</td>\n",
       "      <td>Extrovert</td>\n",
       "    </tr>\n",
       "    <tr>\n",
       "      <th>4</th>\n",
       "      <td>18528</td>\n",
       "      <td>Introvert</td>\n",
       "    </tr>\n",
       "    <tr>\n",
       "      <th>...</th>\n",
       "      <td>...</td>\n",
       "      <td>...</td>\n",
       "    </tr>\n",
       "    <tr>\n",
       "      <th>6170</th>\n",
       "      <td>24694</td>\n",
       "      <td>Extrovert</td>\n",
       "    </tr>\n",
       "    <tr>\n",
       "      <th>6171</th>\n",
       "      <td>24695</td>\n",
       "      <td>Introvert</td>\n",
       "    </tr>\n",
       "    <tr>\n",
       "      <th>6172</th>\n",
       "      <td>24696</td>\n",
       "      <td>Extrovert</td>\n",
       "    </tr>\n",
       "    <tr>\n",
       "      <th>6173</th>\n",
       "      <td>24697</td>\n",
       "      <td>Extrovert</td>\n",
       "    </tr>\n",
       "    <tr>\n",
       "      <th>6174</th>\n",
       "      <td>24698</td>\n",
       "      <td>Introvert</td>\n",
       "    </tr>\n",
       "  </tbody>\n",
       "</table>\n",
       "<p>6175 rows × 2 columns</p>\n",
       "</div>"
      ],
      "text/plain": [
       "         id Personality\n",
       "0     18524   Extrovert\n",
       "1     18525   Introvert\n",
       "2     18526   Extrovert\n",
       "3     18527   Extrovert\n",
       "4     18528   Introvert\n",
       "...     ...         ...\n",
       "6170  24694   Extrovert\n",
       "6171  24695   Introvert\n",
       "6172  24696   Extrovert\n",
       "6173  24697   Extrovert\n",
       "6174  24698   Introvert\n",
       "\n",
       "[6175 rows x 2 columns]"
      ]
     },
     "execution_count": 49,
     "metadata": {},
     "output_type": "execute_result"
    }
   ],
   "source": [
    "sample_submission"
   ]
  },
  {
   "cell_type": "code",
   "execution_count": 55,
   "id": "a81d722e-37ce-4f90-81a2-3579c794f51e",
   "metadata": {},
   "outputs": [],
   "source": [
    "sample_submission.to_csv(\"submission.csv\", index=False)"
   ]
  },
  {
   "cell_type": "markdown",
   "id": "b30ba67a-ba19-4aa4-a0a9-133ba891f037",
   "metadata": {},
   "source": [
    "## Alternative Method: Prediction Without ML"
   ]
  },
  {
   "cell_type": "code",
   "execution_count": 2,
   "id": "20ef7ead-0e8c-4e15-be7f-937c2d475ad4",
   "metadata": {},
   "outputs": [
    {
     "data": {
      "text/html": [
       "<div>\n",
       "<style scoped>\n",
       "    .dataframe tbody tr th:only-of-type {\n",
       "        vertical-align: middle;\n",
       "    }\n",
       "\n",
       "    .dataframe tbody tr th {\n",
       "        vertical-align: top;\n",
       "    }\n",
       "\n",
       "    .dataframe thead th {\n",
       "        text-align: right;\n",
       "    }\n",
       "</style>\n",
       "<table border=\"1\" class=\"dataframe\">\n",
       "  <thead>\n",
       "    <tr style=\"text-align: right;\">\n",
       "      <th></th>\n",
       "      <th>Time_spent_Alone</th>\n",
       "      <th>Stage_fear</th>\n",
       "      <th>Social_event_attendance</th>\n",
       "      <th>Going_outside</th>\n",
       "      <th>Drained_after_socializing</th>\n",
       "      <th>Friends_circle_size</th>\n",
       "      <th>Post_frequency</th>\n",
       "    </tr>\n",
       "    <tr>\n",
       "      <th>id</th>\n",
       "      <th></th>\n",
       "      <th></th>\n",
       "      <th></th>\n",
       "      <th></th>\n",
       "      <th></th>\n",
       "      <th></th>\n",
       "      <th></th>\n",
       "    </tr>\n",
       "  </thead>\n",
       "  <tbody>\n",
       "    <tr>\n",
       "      <th>18524</th>\n",
       "      <td>3.0</td>\n",
       "      <td>No</td>\n",
       "      <td>7.0</td>\n",
       "      <td>4.0</td>\n",
       "      <td>No</td>\n",
       "      <td>6.0</td>\n",
       "      <td>NaN</td>\n",
       "    </tr>\n",
       "    <tr>\n",
       "      <th>18525</th>\n",
       "      <td>NaN</td>\n",
       "      <td>Yes</td>\n",
       "      <td>0.0</td>\n",
       "      <td>0.0</td>\n",
       "      <td>Yes</td>\n",
       "      <td>5.0</td>\n",
       "      <td>1.0</td>\n",
       "    </tr>\n",
       "    <tr>\n",
       "      <th>18526</th>\n",
       "      <td>3.0</td>\n",
       "      <td>No</td>\n",
       "      <td>5.0</td>\n",
       "      <td>6.0</td>\n",
       "      <td>No</td>\n",
       "      <td>15.0</td>\n",
       "      <td>9.0</td>\n",
       "    </tr>\n",
       "    <tr>\n",
       "      <th>18527</th>\n",
       "      <td>3.0</td>\n",
       "      <td>No</td>\n",
       "      <td>4.0</td>\n",
       "      <td>4.0</td>\n",
       "      <td>No</td>\n",
       "      <td>5.0</td>\n",
       "      <td>6.0</td>\n",
       "    </tr>\n",
       "    <tr>\n",
       "      <th>18528</th>\n",
       "      <td>9.0</td>\n",
       "      <td>Yes</td>\n",
       "      <td>1.0</td>\n",
       "      <td>2.0</td>\n",
       "      <td>Yes</td>\n",
       "      <td>1.0</td>\n",
       "      <td>1.0</td>\n",
       "    </tr>\n",
       "    <tr>\n",
       "      <th>...</th>\n",
       "      <td>...</td>\n",
       "      <td>...</td>\n",
       "      <td>...</td>\n",
       "      <td>...</td>\n",
       "      <td>...</td>\n",
       "      <td>...</td>\n",
       "      <td>...</td>\n",
       "    </tr>\n",
       "    <tr>\n",
       "      <th>24694</th>\n",
       "      <td>3.0</td>\n",
       "      <td>No</td>\n",
       "      <td>5.0</td>\n",
       "      <td>5.0</td>\n",
       "      <td>No</td>\n",
       "      <td>9.0</td>\n",
       "      <td>6.0</td>\n",
       "    </tr>\n",
       "    <tr>\n",
       "      <th>24695</th>\n",
       "      <td>8.0</td>\n",
       "      <td>Yes</td>\n",
       "      <td>2.0</td>\n",
       "      <td>1.0</td>\n",
       "      <td>Yes</td>\n",
       "      <td>0.0</td>\n",
       "      <td>0.0</td>\n",
       "    </tr>\n",
       "    <tr>\n",
       "      <th>24696</th>\n",
       "      <td>2.0</td>\n",
       "      <td>No</td>\n",
       "      <td>4.0</td>\n",
       "      <td>3.0</td>\n",
       "      <td>No</td>\n",
       "      <td>9.0</td>\n",
       "      <td>7.0</td>\n",
       "    </tr>\n",
       "    <tr>\n",
       "      <th>24697</th>\n",
       "      <td>3.0</td>\n",
       "      <td>No</td>\n",
       "      <td>4.0</td>\n",
       "      <td>4.0</td>\n",
       "      <td>No</td>\n",
       "      <td>11.0</td>\n",
       "      <td>9.0</td>\n",
       "    </tr>\n",
       "    <tr>\n",
       "      <th>24698</th>\n",
       "      <td>NaN</td>\n",
       "      <td>Yes</td>\n",
       "      <td>1.0</td>\n",
       "      <td>1.0</td>\n",
       "      <td>Yes</td>\n",
       "      <td>1.0</td>\n",
       "      <td>0.0</td>\n",
       "    </tr>\n",
       "  </tbody>\n",
       "</table>\n",
       "<p>6175 rows × 7 columns</p>\n",
       "</div>"
      ],
      "text/plain": [
       "       Time_spent_Alone Stage_fear  Social_event_attendance  Going_outside  \\\n",
       "id                                                                           \n",
       "18524               3.0         No                      7.0            4.0   \n",
       "18525               NaN        Yes                      0.0            0.0   \n",
       "18526               3.0         No                      5.0            6.0   \n",
       "18527               3.0         No                      4.0            4.0   \n",
       "18528               9.0        Yes                      1.0            2.0   \n",
       "...                 ...        ...                      ...            ...   \n",
       "24694               3.0         No                      5.0            5.0   \n",
       "24695               8.0        Yes                      2.0            1.0   \n",
       "24696               2.0         No                      4.0            3.0   \n",
       "24697               3.0         No                      4.0            4.0   \n",
       "24698               NaN        Yes                      1.0            1.0   \n",
       "\n",
       "      Drained_after_socializing  Friends_circle_size  Post_frequency  \n",
       "id                                                                    \n",
       "18524                        No                  6.0             NaN  \n",
       "18525                       Yes                  5.0             1.0  \n",
       "18526                        No                 15.0             9.0  \n",
       "18527                        No                  5.0             6.0  \n",
       "18528                       Yes                  1.0             1.0  \n",
       "...                         ...                  ...             ...  \n",
       "24694                        No                  9.0             6.0  \n",
       "24695                       Yes                  0.0             0.0  \n",
       "24696                        No                  9.0             7.0  \n",
       "24697                        No                 11.0             9.0  \n",
       "24698                       Yes                  1.0             0.0  \n",
       "\n",
       "[6175 rows x 7 columns]"
      ]
     },
     "execution_count": 2,
     "metadata": {},
     "output_type": "execute_result"
    }
   ],
   "source": [
    "test = pd.read_csv(\"test.csv\")\n",
    "test.set_index(\"id\", inplace=True) # set id as the index column\n",
    "test"
   ]
  },
  {
   "cell_type": "code",
   "execution_count": 4,
   "id": "afd7d3c1-4233-4e4a-ac44-297ab4b4e64a",
   "metadata": {},
   "outputs": [],
   "source": [
    "preds = []\n",
    "\n",
    "for idx, row in test.iterrows():\n",
    "    \n",
    "    poss = []\n",
    "\n",
    "    # introvert condition\n",
    "    if row.Time_spent_Alone > 4: poss.append(1)\n",
    "    if row.Stage_fear == \"Yes\": poss.append(1)\n",
    "    if row.Social_event_attendance < 4 : poss.append(1)\n",
    "    if row.Going_outside < 3 : poss.append(1)\n",
    "    if row.Drained_after_socializing == \"Yes\": poss.append(1)\n",
    "    if row.Friends_circle_size < 6 : poss.append(1)\n",
    "    if row.Post_frequency < 3 : poss.append(1)\n",
    "\n",
    "    cnt = row.isnull().sum()\n",
    "    if sum(poss)>cnt//2: preds.append(\"Introvert\")\n",
    "    else: preds.append(\"Extrovert\")"
   ]
  },
  {
   "cell_type": "code",
   "execution_count": 8,
   "id": "7bda831b-8612-4771-a5c0-ef139c8eaaae",
   "metadata": {},
   "outputs": [
    {
     "data": {
      "text/plain": [
       "6175"
      ]
     },
     "execution_count": 8,
     "metadata": {},
     "output_type": "execute_result"
    }
   ],
   "source": [
    "len(preds)"
   ]
  },
  {
   "cell_type": "code",
   "execution_count": 14,
   "id": "c9596d81-d8a5-4954-9f02-9ff652f0a9db",
   "metadata": {},
   "outputs": [
    {
     "data": {
      "text/html": [
       "<div>\n",
       "<style scoped>\n",
       "    .dataframe tbody tr th:only-of-type {\n",
       "        vertical-align: middle;\n",
       "    }\n",
       "\n",
       "    .dataframe tbody tr th {\n",
       "        vertical-align: top;\n",
       "    }\n",
       "\n",
       "    .dataframe thead th {\n",
       "        text-align: right;\n",
       "    }\n",
       "</style>\n",
       "<table border=\"1\" class=\"dataframe\">\n",
       "  <thead>\n",
       "    <tr style=\"text-align: right;\">\n",
       "      <th></th>\n",
       "      <th>id</th>\n",
       "      <th>Personality</th>\n",
       "    </tr>\n",
       "  </thead>\n",
       "  <tbody>\n",
       "    <tr>\n",
       "      <th>0</th>\n",
       "      <td>18524</td>\n",
       "      <td>Extrovert</td>\n",
       "    </tr>\n",
       "    <tr>\n",
       "      <th>1</th>\n",
       "      <td>18525</td>\n",
       "      <td>Introvert</td>\n",
       "    </tr>\n",
       "    <tr>\n",
       "      <th>2</th>\n",
       "      <td>18526</td>\n",
       "      <td>Extrovert</td>\n",
       "    </tr>\n",
       "    <tr>\n",
       "      <th>3</th>\n",
       "      <td>18527</td>\n",
       "      <td>Introvert</td>\n",
       "    </tr>\n",
       "    <tr>\n",
       "      <th>4</th>\n",
       "      <td>18528</td>\n",
       "      <td>Introvert</td>\n",
       "    </tr>\n",
       "    <tr>\n",
       "      <th>...</th>\n",
       "      <td>...</td>\n",
       "      <td>...</td>\n",
       "    </tr>\n",
       "    <tr>\n",
       "      <th>6170</th>\n",
       "      <td>24694</td>\n",
       "      <td>Extrovert</td>\n",
       "    </tr>\n",
       "    <tr>\n",
       "      <th>6171</th>\n",
       "      <td>24695</td>\n",
       "      <td>Introvert</td>\n",
       "    </tr>\n",
       "    <tr>\n",
       "      <th>6172</th>\n",
       "      <td>24696</td>\n",
       "      <td>Extrovert</td>\n",
       "    </tr>\n",
       "    <tr>\n",
       "      <th>6173</th>\n",
       "      <td>24697</td>\n",
       "      <td>Extrovert</td>\n",
       "    </tr>\n",
       "    <tr>\n",
       "      <th>6174</th>\n",
       "      <td>24698</td>\n",
       "      <td>Introvert</td>\n",
       "    </tr>\n",
       "  </tbody>\n",
       "</table>\n",
       "<p>6175 rows × 2 columns</p>\n",
       "</div>"
      ],
      "text/plain": [
       "         id Personality\n",
       "0     18524   Extrovert\n",
       "1     18525   Introvert\n",
       "2     18526   Extrovert\n",
       "3     18527   Introvert\n",
       "4     18528   Introvert\n",
       "...     ...         ...\n",
       "6170  24694   Extrovert\n",
       "6171  24695   Introvert\n",
       "6172  24696   Extrovert\n",
       "6173  24697   Extrovert\n",
       "6174  24698   Introvert\n",
       "\n",
       "[6175 rows x 2 columns]"
      ]
     },
     "execution_count": 14,
     "metadata": {},
     "output_type": "execute_result"
    }
   ],
   "source": [
    "sample_submission_without_ML = pd.read_csv(\"sample_submission.csv\")\n",
    "sample_submission_without_ML['Personality'] = preds # predict using simply the observations abv without using  ML\n",
    "sample_submission_without_ML.to_csv(\"submission_without_ml.csv\", index=False)\n",
    "sample_submission_without_ML"
   ]
  }
 ],
 "metadata": {
  "kernelspec": {
   "display_name": "Python 3 (ipykernel)",
   "language": "python",
   "name": "python3"
  },
  "language_info": {
   "codemirror_mode": {
    "name": "ipython",
    "version": 3
   },
   "file_extension": ".py",
   "mimetype": "text/x-python",
   "name": "python",
   "nbconvert_exporter": "python",
   "pygments_lexer": "ipython3",
   "version": "3.10.6"
  }
 },
 "nbformat": 4,
 "nbformat_minor": 5
}
